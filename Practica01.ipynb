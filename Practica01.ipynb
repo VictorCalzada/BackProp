{
 "cells": [
  {
   "cell_type": "code",
   "execution_count": 29,
   "id": "0efab1d4",
   "metadata": {},
   "outputs": [
    {
     "data": {
      "text/html": [
       "<ol class=list-inline>\n",
       "\t<li>15</li>\n",
       "\t<li>2</li>\n",
       "</ol>\n"
      ],
      "text/latex": [
       "\\begin{enumerate*}\n",
       "\\item 15\n",
       "\\item 2\n",
       "\\end{enumerate*}\n"
      ],
      "text/markdown": [
       "1. 15\n",
       "2. 2\n",
       "\n",
       "\n"
      ],
      "text/plain": [
       "[1] 15  2"
      ]
     },
     "metadata": {},
     "output_type": "display_data"
    },
    {
     "data": {
      "text/html": [
       "<ol class=list-inline>\n",
       "\t<li>15</li>\n",
       "\t<li>1</li>\n",
       "</ol>\n"
      ],
      "text/latex": [
       "\\begin{enumerate*}\n",
       "\\item 15\n",
       "\\item 1\n",
       "\\end{enumerate*}\n"
      ],
      "text/markdown": [
       "1. 15\n",
       "2. 1\n",
       "\n",
       "\n"
      ],
      "text/plain": [
       "[1] 15  1"
      ]
     },
     "metadata": {},
     "output_type": "display_data"
    },
    {
     "data": {
      "text/html": [
       "<table>\n",
       "<tbody>\n",
       "\t<tr><td>8</td></tr>\n",
       "</tbody>\n",
       "</table>\n"
      ],
      "text/latex": [
       "\\begin{tabular}{l}\n",
       "\t 8\\\\\n",
       "\\end{tabular}\n"
      ],
      "text/markdown": [
       "\n",
       "| 8 |\n",
       "\n"
      ],
      "text/plain": [
       "     [,1]\n",
       "[1,] 8   "
      ]
     },
     "metadata": {},
     "output_type": "display_data"
    },
    {
     "data": {
      "image/png": "[encoded data removed]",
      "text/plain": [
       "plot without title"
      ]
     },
     "metadata": {},
     "output_type": "display_data"
    }
   ],
   "source": [
    "\n",
    "lin <- read.csv(\"lineal.csv\",header = F)\n",
    "ind=which(lin[,3]==0)\n",
    "plot(lin[ind,1],lin[ind,2],type=\"p\",xlim=c(-2,2),ylim=c(-2,2))\n",
    "lines(lin[-ind,1],lin[-ind,2],type=\"p\",col=\"red\")\n",
    "a<-as.matrix(lin[,-3])\n",
    "dim(a)\n",
    "# [1] 15 2\n",
    "b<-as.matrix(lin[,3])\n",
    "dim(b)\n",
    "#[1] 15 1\n",
    "# Producto escalar c(1,2,3)%*%c(3,2,1)\n",
    "t(b)%*%b\n",
    "#8\n",
    "#Incluir el bias:\n",
    "ap <- a\n",
    "a <- cbind(a,rep(1,nrow(a)))"
   ]
  },
  {
   "cell_type": "code",
   "execution_count": 30,
   "id": "6e5c8784",
   "metadata": {},
   "outputs": [],
   "source": [
    "activation <- function(z) {\n",
    "    1/(1 + exp(-z))\n",
    "}\n",
    "\n",
    "\n",
    "neurons <- c(ncol(a),ncol(b))\n",
    "W <- matrix(data = runif(prod(neurons), min = -1, max = 1),\n",
    "nrow = neurons[2], ncol = neurons[1]) #nrow = neurons[1], ncol = neurons[2]\n",
    "\n",
    "bout <- activation(a %*% t(W)) # activation(a %*% W)\n",
    "\n",
    "eta = 0.01\n",
    "error <- b-bout\n",
    "aux<- error*bout*(1-bout)\n",
    "Wdelta <- eta*t(aux)%*%a\n",
    "\n",
    "W = W + Wdelta"
   ]
  },
  {
   "cell_type": "code",
   "execution_count": 31,
   "id": "0bb7fb1e",
   "metadata": {},
   "outputs": [],
   "source": [
    "backprop <- function(y,x, epochs = 10, eta = 0.1){\n",
    "    neurons <- c(ncol(x),ncol(y))\n",
    "    W <- matrix(data = runif(prod(neurons), min = -1, max = 1),\n",
    "    nrow = neurons[2], ncol = neurons[1])\n",
    "    bout <- activation(x %*% t(W))\n",
    "    \n",
    "    for(i in 1:epochs){\n",
    "        \n",
    "        error <- y-bout\n",
    "        aux<- error*bout*(1-bout)\n",
    "        Wdelta <- eta*t(aux)%*%x\n",
    "\n",
    "        W = W + Wdelta\n",
    "        bout <- activation(x %*% t(W))\n",
    "        \n",
    "    }\n",
    "    \n",
    "    \n",
    "    return(bout)\n",
    "}"
   ]
  },
  {
   "cell_type": "code",
   "execution_count": 33,
   "id": "c8fe41b5",
   "metadata": {},
   "outputs": [
    {
     "data": {
      "text/html": [
       "<table>\n",
       "<tbody>\n",
       "\t<tr><td>2.537190e-04</td><td>0           </td></tr>\n",
       "\t<tr><td>9.287641e-01</td><td>1           </td></tr>\n",
       "\t<tr><td>3.591088e-02</td><td>0           </td></tr>\n",
       "\t<tr><td>9.062579e-01</td><td>1           </td></tr>\n",
       "\t<tr><td>2.046044e-03</td><td>0           </td></tr>\n",
       "\t<tr><td>9.925414e-01</td><td>1           </td></tr>\n",
       "\t<tr><td>9.777750e-01</td><td>1           </td></tr>\n",
       "\t<tr><td>4.636924e-06</td><td>0           </td></tr>\n",
       "\t<tr><td>1.425606e-01</td><td>0           </td></tr>\n",
       "\t<tr><td>9.911678e-01</td><td>1           </td></tr>\n",
       "\t<tr><td>9.977926e-01</td><td>1           </td></tr>\n",
       "\t<tr><td>9.997603e-01</td><td>1           </td></tr>\n",
       "\t<tr><td>4.841624e-02</td><td>0           </td></tr>\n",
       "\t<tr><td>6.605234e-03</td><td>0           </td></tr>\n",
       "\t<tr><td>9.093274e-01</td><td>1           </td></tr>\n",
       "</tbody>\n",
       "</table>\n"
      ],
      "text/latex": [
       "\\begin{tabular}{ll}\n",
       "\t 2.537190e-04 & 0           \\\\\n",
       "\t 9.287641e-01 & 1           \\\\\n",
       "\t 3.591088e-02 & 0           \\\\\n",
       "\t 9.062579e-01 & 1           \\\\\n",
       "\t 2.046044e-03 & 0           \\\\\n",
       "\t 9.925414e-01 & 1           \\\\\n",
       "\t 9.777750e-01 & 1           \\\\\n",
       "\t 4.636924e-06 & 0           \\\\\n",
       "\t 1.425606e-01 & 0           \\\\\n",
       "\t 9.911678e-01 & 1           \\\\\n",
       "\t 9.977926e-01 & 1           \\\\\n",
       "\t 9.997603e-01 & 1           \\\\\n",
       "\t 4.841624e-02 & 0           \\\\\n",
       "\t 6.605234e-03 & 0           \\\\\n",
       "\t 9.093274e-01 & 1           \\\\\n",
       "\\end{tabular}\n"
      ],
      "text/markdown": [
       "\n",
       "| 2.537190e-04 | 0            |\n",
       "| 9.287641e-01 | 1            |\n",
       "| 3.591088e-02 | 0            |\n",
       "| 9.062579e-01 | 1            |\n",
       "| 2.046044e-03 | 0            |\n",
       "| 9.925414e-01 | 1            |\n",
       "| 9.777750e-01 | 1            |\n",
       "| 4.636924e-06 | 0            |\n",
       "| 1.425606e-01 | 0            |\n",
       "| 9.911678e-01 | 1            |\n",
       "| 9.977926e-01 | 1            |\n",
       "| 9.997603e-01 | 1            |\n",
       "| 4.841624e-02 | 0            |\n",
       "| 6.605234e-03 | 0            |\n",
       "| 9.093274e-01 | 1            |\n",
       "\n"
      ],
      "text/plain": [
       "      [,1]         [,2]\n",
       " [1,] 2.537190e-04 0   \n",
       " [2,] 9.287641e-01 1   \n",
       " [3,] 3.591088e-02 0   \n",
       " [4,] 9.062579e-01 1   \n",
       " [5,] 2.046044e-03 0   \n",
       " [6,] 9.925414e-01 1   \n",
       " [7,] 9.777750e-01 1   \n",
       " [8,] 4.636924e-06 0   \n",
       " [9,] 1.425606e-01 0   \n",
       "[10,] 9.911678e-01 1   \n",
       "[11,] 9.977926e-01 1   \n",
       "[12,] 9.997603e-01 1   \n",
       "[13,] 4.841624e-02 0   \n",
       "[14,] 6.605234e-03 0   \n",
       "[15,] 9.093274e-01 1   "
      ]
     },
     "metadata": {},
     "output_type": "display_data"
    }
   ],
   "source": [
    "boutNew = backprop(b,a, epochs = 10000, eta = 0.1)\n",
    "cbind(boutNew,b)"
   ]
  },
  {
   "cell_type": "markdown",
   "id": "58c94805",
   "metadata": {},
   "source": [
    "<div class=\"alert alert-warning\" role=\"alert\">\n",
    "  \n",
    "\n",
    "<h1>TAREA (los BONUS 1 y 2 son opcionales):</h1>\n",
    "<p>\n",
    "\n",
    "Generalizar la función backprop anterior para que contemple la inclusión de\n",
    "una capa oculta. Aplicar la función al ejemplo de la clasificación circular.\n",
    "Si se fija el número máximo de épocas en 1000. ¿Qué número de neuronas\n",
    "ocultas y qué valor de la tasa de aprendizaje (eta) es óptimo para este\n",
    "problema? (basta una solución aproximada).\n",
    "<hr>\n",
    "\n",
    "__BONUS 1-__ ¿Sabrías incluir un término de inercia en el método de\n",
    "backpropagation (ver transparencia 4)?\n",
    "\n",
    "__BONUS 2-__ Generalizar a un número arbitrario de capas (recomendación,\n",
    "        definir los pesos como una lista de matrices, una para cada capa).</p>\n",
    "</div>"
   ]
  },
  {
   "cell_type": "code",
   "execution_count": 34,
   "id": "1d27b25b",
   "metadata": {},
   "outputs": [],
   "source": [
    "activation <- function(z) {\n",
    "    1/(1 + exp(-z))\n",
    "}\n",
    "\n",
    "#activationDer <- function(z){\n",
    "#    exp(-z)/(exp(-z) + 1)^2\n",
    "#}\n",
    "#\n",
    "#activationDerAlter <- function(z){\n",
    "#    activation(z) * (1- activation(z))\n",
    "#}\n",
    "\n",
    "comOut <- function(x, W){\n",
    "    #Funcion que computa el output de la red\n",
    "    nW = length(W)\n",
    "    val = cbind(x,rep(1,nrow(x))) #Valor inicial a multiplicar por W y activar \n",
    "    A = list()\n",
    "    for (i in 1:nW){\n",
    "        \n",
    "        #print(val)\n",
    "        val = val %*% t(W[[i]])\n",
    "        if (i != nW){\n",
    "            val = cbind(val,rep(1,nrow(val)))\n",
    "        }\n",
    "        A[[i]] = activation(val)\n",
    "        \n",
    "        \n",
    "    }\n",
    "    #print(val)\n",
    "    return(A)\n",
    "    \n",
    "}\n",
    "\n",
    "backprop_mlp <- function(y, x, h, epochs = 10, eta = 0.1){\n",
    "    neurons = c(ncol(x),h,ncol(y))\n",
    "    #print(neurons)\n",
    "    n = length(neurons)-1\n",
    "    W = list()\n",
    "    for (i in 1:n){\n",
    "        W[[i]] = matrix(data = runif((neurons[i]+1)*neurons[i+1], min = -1, max = 1),\n",
    "                 nrow = neurons[i+1], ncol = neurons[i]+1)\n",
    "    }\n",
    "    \n",
    "    \n",
    "    # Dentro del for\n",
    "    d = 0\n",
    "    A = comOut(x,W)\n",
    "    \n",
    "    ex = length(neurons)\n",
    "    \n",
    "    for (i in 1:epochs){\n",
    "        for (i in 1:n){\n",
    "            o = ex - i\n",
    "            if (o == n){\n",
    "                d = ((y-A[[o]])*A[[o]]*(1-A[[o]]))\n",
    "                \n",
    "            }else{\n",
    "                Wf = W[[o+1]]\n",
    "                val = dim(Wf)[2]\n",
    "                Af = A[[o]]\n",
    "                \n",
    "                if (dim(Wf)[1]==1){\n",
    "                    Wf = Wf[-val]\n",
    "                }else{\n",
    "                    Wf = Wf[,-val]\n",
    "                }\n",
    "                \n",
    "                d = d%*%Wf*Af[,-val]*(1-Af[,-val])\n",
    "            }\n",
    "            if (o == 1){\n",
    "                W[[o]] = W[[o]]+eta * t(d)%*%cbind(x,rep(1,nrow(x)))\n",
    "            }else{\n",
    "                W[[o]] = W[[o]]+eta * t(d)%*%A[[o-1]]\n",
    "            }\n",
    "        }\n",
    "        A = comOut(x,W)\n",
    "    }\n",
    "    \n",
    "    ###Fin del for\n",
    "    \n",
    "    \n",
    "    return(A)\n",
    "    \n",
    "    \n",
    "}"
   ]
  },
  {
   "cell_type": "code",
   "execution_count": 35,
   "id": "4c743e2e",
   "metadata": {},
   "outputs": [],
   "source": [
    "A = backprop_mlp(b,ap,c(3),epochs = 10000, eta = 0.1)\n",
    "n = length(A)\n",
    "val <- cbind(A[[n]],b)"
   ]
  },
  {
   "cell_type": "code",
   "execution_count": 36,
   "id": "92183f03",
   "metadata": {},
   "outputs": [
    {
     "data": {
      "text/html": [
       "<table>\n",
       "<tbody>\n",
       "\t<tr><td>1.247116e-06</td><td>0           </td></tr>\n",
       "\t<tr><td>9.830974e-01</td><td>1           </td></tr>\n",
       "\t<tr><td>4.052918e-03</td><td>0           </td></tr>\n",
       "\t<tr><td>9.702418e-01</td><td>1           </td></tr>\n",
       "\t<tr><td>3.699824e-05</td><td>0           </td></tr>\n",
       "\t<tr><td>9.996111e-01</td><td>1           </td></tr>\n",
       "\t<tr><td>9.975196e-01</td><td>1           </td></tr>\n",
       "\t<tr><td>1.918113e-09</td><td>0           </td></tr>\n",
       "\t<tr><td>4.366628e-02</td><td>0           </td></tr>\n",
       "\t<tr><td>9.994523e-01</td><td>1           </td></tr>\n",
       "\t<tr><td>9.999460e-01</td><td>1           </td></tr>\n",
       "\t<tr><td>9.999985e-01</td><td>1           </td></tr>\n",
       "\t<tr><td>7.339202e-03</td><td>0           </td></tr>\n",
       "\t<tr><td>2.534540e-04</td><td>0           </td></tr>\n",
       "\t<tr><td>9.730206e-01</td><td>1           </td></tr>\n",
       "</tbody>\n",
       "</table>\n"
      ],
      "text/latex": [
       "\\begin{tabular}{ll}\n",
       "\t 1.247116e-06 & 0           \\\\\n",
       "\t 9.830974e-01 & 1           \\\\\n",
       "\t 4.052918e-03 & 0           \\\\\n",
       "\t 9.702418e-01 & 1           \\\\\n",
       "\t 3.699824e-05 & 0           \\\\\n",
       "\t 9.996111e-01 & 1           \\\\\n",
       "\t 9.975196e-01 & 1           \\\\\n",
       "\t 1.918113e-09 & 0           \\\\\n",
       "\t 4.366628e-02 & 0           \\\\\n",
       "\t 9.994523e-01 & 1           \\\\\n",
       "\t 9.999460e-01 & 1           \\\\\n",
       "\t 9.999985e-01 & 1           \\\\\n",
       "\t 7.339202e-03 & 0           \\\\\n",
       "\t 2.534540e-04 & 0           \\\\\n",
       "\t 9.730206e-01 & 1           \\\\\n",
       "\\end{tabular}\n"
      ],
      "text/markdown": [
       "\n",
       "| 1.247116e-06 | 0            |\n",
       "| 9.830974e-01 | 1            |\n",
       "| 4.052918e-03 | 0            |\n",
       "| 9.702418e-01 | 1            |\n",
       "| 3.699824e-05 | 0            |\n",
       "| 9.996111e-01 | 1            |\n",
       "| 9.975196e-01 | 1            |\n",
       "| 1.918113e-09 | 0            |\n",
       "| 4.366628e-02 | 0            |\n",
       "| 9.994523e-01 | 1            |\n",
       "| 9.999460e-01 | 1            |\n",
       "| 9.999985e-01 | 1            |\n",
       "| 7.339202e-03 | 0            |\n",
       "| 2.534540e-04 | 0            |\n",
       "| 9.730206e-01 | 1            |\n",
       "\n"
      ],
      "text/plain": [
       "      [,1]         [,2]\n",
       " [1,] 1.247116e-06 0   \n",
       " [2,] 9.830974e-01 1   \n",
       " [3,] 4.052918e-03 0   \n",
       " [4,] 9.702418e-01 1   \n",
       " [5,] 3.699824e-05 0   \n",
       " [6,] 9.996111e-01 1   \n",
       " [7,] 9.975196e-01 1   \n",
       " [8,] 1.918113e-09 0   \n",
       " [9,] 4.366628e-02 0   \n",
       "[10,] 9.994523e-01 1   \n",
       "[11,] 9.999460e-01 1   \n",
       "[12,] 9.999985e-01 1   \n",
       "[13,] 7.339202e-03 0   \n",
       "[14,] 2.534540e-04 0   \n",
       "[15,] 9.730206e-01 1   "
      ]
     },
     "metadata": {},
     "output_type": "display_data"
    }
   ],
   "source": [
    "val"
   ]
  },
  {
   "cell_type": "code",
   "execution_count": 19,
   "id": "d755a234",
   "metadata": {},
   "outputs": [
    {
     "data": {
      "image/png": "[encoded data removed]",
      "text/plain": [
       "plot without title"
      ]
     },
     "metadata": {},
     "output_type": "display_data"
    }
   ],
   "source": [
    "plot(val[,1],col = \"blue\")\n",
    "points(val[,2], col = \"red\")"
   ]
  },
  {
   "cell_type": "code",
   "execution_count": null,
   "id": "e2c826e8",
   "metadata": {},
   "outputs": [],
   "source": []
  }
 ],
 "metadata": {
  "kernelspec": {
   "display_name": "R",
   "language": "R",
   "name": "ir"
  },
  "language_info": {
   "codemirror_mode": "r",
   "file_extension": ".r",
   "mimetype": "text/x-r-source",
   "name": "R",
   "pygments_lexer": "r",
   "version": "3.6.1"
  }
 },
 "nbformat": 4,
 "nbformat_minor": 5
}
